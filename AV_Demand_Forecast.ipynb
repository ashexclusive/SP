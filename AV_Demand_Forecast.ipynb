{
 "cells": [
  {
   "cell_type": "code",
   "execution_count": 19,
   "metadata": {},
   "outputs": [],
   "source": [
    "import matplotlib.pyplot as plt\n",
    "import seaborn as sns\n",
    "plt.style.use('fivethirtyeight')\n",
    "import warnings\n",
    "warnings.filterwarnings('ignore')\n",
    "import numpy as np\n",
    "import pandas as pd\n",
    "import re\n",
    "from sklearn.metrics import mean_squared_log_error\n",
    "from sklearn.model_selection import StratifiedKFold\n",
    "%matplotlib inline\n",
    "from sklearn.model_selection import KFold, cross_val_score, train_test_split, cross_val_predict, GridSearchCV\n",
    "import xgboost as xgb\n",
    "import catboost\n",
    "import lightgbm as lgb"
   ]
  },
  {
   "cell_type": "code",
   "execution_count": 20,
   "metadata": {},
   "outputs": [],
   "source": [
    "data = pd.read_csv('train_0irEZ2H.csv')"
   ]
  },
  {
   "cell_type": "code",
   "execution_count": 21,
   "metadata": {},
   "outputs": [
    {
     "data": {
      "text/html": [
       "<div>\n",
       "<style scoped>\n",
       "    .dataframe tbody tr th:only-of-type {\n",
       "        vertical-align: middle;\n",
       "    }\n",
       "\n",
       "    .dataframe tbody tr th {\n",
       "        vertical-align: top;\n",
       "    }\n",
       "\n",
       "    .dataframe thead th {\n",
       "        text-align: right;\n",
       "    }\n",
       "</style>\n",
       "<table border=\"1\" class=\"dataframe\">\n",
       "  <thead>\n",
       "    <tr style=\"text-align: right;\">\n",
       "      <th></th>\n",
       "      <th>record_ID</th>\n",
       "      <th>week</th>\n",
       "      <th>store_id</th>\n",
       "      <th>sku_id</th>\n",
       "      <th>total_price</th>\n",
       "      <th>base_price</th>\n",
       "      <th>is_featured_sku</th>\n",
       "      <th>is_display_sku</th>\n",
       "      <th>units_sold</th>\n",
       "    </tr>\n",
       "  </thead>\n",
       "  <tbody>\n",
       "    <tr>\n",
       "      <th>0</th>\n",
       "      <td>1</td>\n",
       "      <td>17/01/11</td>\n",
       "      <td>8091</td>\n",
       "      <td>216418</td>\n",
       "      <td>99.0375</td>\n",
       "      <td>111.8625</td>\n",
       "      <td>0</td>\n",
       "      <td>0</td>\n",
       "      <td>20</td>\n",
       "    </tr>\n",
       "    <tr>\n",
       "      <th>1</th>\n",
       "      <td>2</td>\n",
       "      <td>17/01/11</td>\n",
       "      <td>8091</td>\n",
       "      <td>216419</td>\n",
       "      <td>99.0375</td>\n",
       "      <td>99.0375</td>\n",
       "      <td>0</td>\n",
       "      <td>0</td>\n",
       "      <td>28</td>\n",
       "    </tr>\n",
       "    <tr>\n",
       "      <th>2</th>\n",
       "      <td>3</td>\n",
       "      <td>17/01/11</td>\n",
       "      <td>8091</td>\n",
       "      <td>216425</td>\n",
       "      <td>133.9500</td>\n",
       "      <td>133.9500</td>\n",
       "      <td>0</td>\n",
       "      <td>0</td>\n",
       "      <td>19</td>\n",
       "    </tr>\n",
       "    <tr>\n",
       "      <th>3</th>\n",
       "      <td>4</td>\n",
       "      <td>17/01/11</td>\n",
       "      <td>8091</td>\n",
       "      <td>216233</td>\n",
       "      <td>133.9500</td>\n",
       "      <td>133.9500</td>\n",
       "      <td>0</td>\n",
       "      <td>0</td>\n",
       "      <td>44</td>\n",
       "    </tr>\n",
       "    <tr>\n",
       "      <th>4</th>\n",
       "      <td>5</td>\n",
       "      <td>17/01/11</td>\n",
       "      <td>8091</td>\n",
       "      <td>217390</td>\n",
       "      <td>141.0750</td>\n",
       "      <td>141.0750</td>\n",
       "      <td>0</td>\n",
       "      <td>0</td>\n",
       "      <td>52</td>\n",
       "    </tr>\n",
       "  </tbody>\n",
       "</table>\n",
       "</div>"
      ],
      "text/plain": [
       "   record_ID      week  store_id  sku_id  total_price  base_price  \\\n",
       "0          1  17/01/11      8091  216418      99.0375    111.8625   \n",
       "1          2  17/01/11      8091  216419      99.0375     99.0375   \n",
       "2          3  17/01/11      8091  216425     133.9500    133.9500   \n",
       "3          4  17/01/11      8091  216233     133.9500    133.9500   \n",
       "4          5  17/01/11      8091  217390     141.0750    141.0750   \n",
       "\n",
       "   is_featured_sku  is_display_sku  units_sold  \n",
       "0                0               0          20  \n",
       "1                0               0          28  \n",
       "2                0               0          19  \n",
       "3                0               0          44  \n",
       "4                0               0          52  "
      ]
     },
     "execution_count": 21,
     "metadata": {},
     "output_type": "execute_result"
    }
   ],
   "source": [
    "data.head()"
   ]
  },
  {
   "cell_type": "code",
   "execution_count": 22,
   "metadata": {},
   "outputs": [
    {
     "data": {
      "text/plain": [
       "record_ID          0\n",
       "week               0\n",
       "store_id           0\n",
       "sku_id             0\n",
       "total_price        1\n",
       "base_price         0\n",
       "is_featured_sku    0\n",
       "is_display_sku     0\n",
       "units_sold         0\n",
       "dtype: int64"
      ]
     },
     "execution_count": 22,
     "metadata": {},
     "output_type": "execute_result"
    }
   ],
   "source": [
    "data.isnull().sum()"
   ]
  },
  {
   "cell_type": "code",
   "execution_count": 23,
   "metadata": {},
   "outputs": [],
   "source": [
    "# Replacing null value with mean and converting date to datetime format\n",
    "data.fillna({'total_price':data['total_price'].mean()}, inplace=True)\n",
    "data['week'] =  pd.to_datetime(data['week'], format='%d/%m/%y')"
   ]
  },
  {
   "cell_type": "code",
   "execution_count": 24,
   "metadata": {},
   "outputs": [],
   "source": [
    "# Feature engineering\n",
    "\n",
    "def data_prep(data):\n",
    "     \n",
    "    # Date time features\n",
    "    data['Year'] = pd.to_datetime(data['week']).dt.year\n",
    "    data['Month'] = pd.to_datetime(data['week']).dt.month\n",
    "    data['Day'] = pd.to_datetime(data['week']).dt.day\n",
    "    data['Dayofweek'] = pd.to_datetime(data['week']).dt.dayofweek\n",
    "    data['DayOfyear'] = pd.to_datetime(data['week']).dt.dayofyear\n",
    "    data['Week'] = pd.to_datetime(data['week']).dt.week \n",
    "    data['Quarter'] = pd.to_datetime(data['week']).dt.quarter  \n",
    "    data['Is_month_start'] = pd.to_datetime(data['week']).dt.is_month_start \n",
    "    data['Is_month_end'] = pd.to_datetime(data['week']).dt.is_month_end \n",
    "    data['Is_quarter_start'] = pd.to_datetime(data['week']).dt.is_quarter_start\n",
    "    data['Is_quarter_end'] = pd.to_datetime(data['week']).dt.is_quarter_end \n",
    "    data['Is_year_start'] = pd.to_datetime(data['week']).dt.is_year_start \n",
    "    data['Is_year_end'] = pd.to_datetime(data['week']).dt.is_year_end\n",
    "    data.drop('week', inplace=True, axis=1)\n",
    "    \n",
    "    # Price difference rate\n",
    "    data['price_diff_base'] = (data['base_price'] - data['total_price'])/data['base_price']\n",
    "    data['price_diff_total'] = (data['total_price'] - data['base_price'])/data['total_price'] \n",
    "    \n",
    "    # Mean total price and base price of every product\n",
    "    new_df = data.groupby('sku_id').mean().reset_index()\n",
    "    new_df = new_df[['sku_id', 'total_price', 'base_price']]\n",
    "    new_df.columns = ['sku_id', 'total_price_mean_skuid', 'base_price_mean_skuid']\n",
    "    data = pd.merge(data, new_df, on='sku_id', how='left')\n",
    "    \n",
    "    # Mean price difference rate\n",
    "    data['mean_price_diff_base'] = (data['base_price_mean_skuid'] - data['base_price'])/data['base_price_mean_skuid']\n",
    "    data['price_diff_total'] = (data['total_price_mean_skuid'] - data['total_price'])/data['total_price_mean_skuid']\n",
    "    \n",
    "    return data"
   ]
  },
  {
   "cell_type": "code",
   "execution_count": 25,
   "metadata": {},
   "outputs": [],
   "source": [
    "data = data_prep(data)"
   ]
  },
  {
   "cell_type": "code",
   "execution_count": 26,
   "metadata": {},
   "outputs": [
    {
     "data": {
      "text/html": [
       "<div>\n",
       "<style scoped>\n",
       "    .dataframe tbody tr th:only-of-type {\n",
       "        vertical-align: middle;\n",
       "    }\n",
       "\n",
       "    .dataframe tbody tr th {\n",
       "        vertical-align: top;\n",
       "    }\n",
       "\n",
       "    .dataframe thead th {\n",
       "        text-align: right;\n",
       "    }\n",
       "</style>\n",
       "<table border=\"1\" class=\"dataframe\">\n",
       "  <thead>\n",
       "    <tr style=\"text-align: right;\">\n",
       "      <th></th>\n",
       "      <th>record_ID</th>\n",
       "      <th>store_id</th>\n",
       "      <th>sku_id</th>\n",
       "      <th>total_price</th>\n",
       "      <th>base_price</th>\n",
       "      <th>is_featured_sku</th>\n",
       "      <th>is_display_sku</th>\n",
       "      <th>units_sold</th>\n",
       "      <th>Year</th>\n",
       "      <th>Month</th>\n",
       "      <th>...</th>\n",
       "      <th>Is_month_end</th>\n",
       "      <th>Is_quarter_start</th>\n",
       "      <th>Is_quarter_end</th>\n",
       "      <th>Is_year_start</th>\n",
       "      <th>Is_year_end</th>\n",
       "      <th>price_diff_base</th>\n",
       "      <th>price_diff_total</th>\n",
       "      <th>total_price_mean_skuid</th>\n",
       "      <th>base_price_mean_skuid</th>\n",
       "      <th>mean_price_diff_base</th>\n",
       "    </tr>\n",
       "  </thead>\n",
       "  <tbody>\n",
       "    <tr>\n",
       "      <th>0</th>\n",
       "      <td>1</td>\n",
       "      <td>8091</td>\n",
       "      <td>216418</td>\n",
       "      <td>99.0375</td>\n",
       "      <td>111.8625</td>\n",
       "      <td>0</td>\n",
       "      <td>0</td>\n",
       "      <td>20</td>\n",
       "      <td>2011</td>\n",
       "      <td>1</td>\n",
       "      <td>...</td>\n",
       "      <td>False</td>\n",
       "      <td>False</td>\n",
       "      <td>False</td>\n",
       "      <td>False</td>\n",
       "      <td>False</td>\n",
       "      <td>0.11465</td>\n",
       "      <td>-0.076697</td>\n",
       "      <td>91.982702</td>\n",
       "      <td>94.688268</td>\n",
       "      <td>-0.181377</td>\n",
       "    </tr>\n",
       "    <tr>\n",
       "      <th>1</th>\n",
       "      <td>2</td>\n",
       "      <td>8091</td>\n",
       "      <td>216419</td>\n",
       "      <td>99.0375</td>\n",
       "      <td>99.0375</td>\n",
       "      <td>0</td>\n",
       "      <td>0</td>\n",
       "      <td>28</td>\n",
       "      <td>2011</td>\n",
       "      <td>1</td>\n",
       "      <td>...</td>\n",
       "      <td>False</td>\n",
       "      <td>False</td>\n",
       "      <td>False</td>\n",
       "      <td>False</td>\n",
       "      <td>False</td>\n",
       "      <td>0.00000</td>\n",
       "      <td>-0.072424</td>\n",
       "      <td>92.349162</td>\n",
       "      <td>94.908763</td>\n",
       "      <td>-0.043502</td>\n",
       "    </tr>\n",
       "    <tr>\n",
       "      <th>2</th>\n",
       "      <td>3</td>\n",
       "      <td>8091</td>\n",
       "      <td>216425</td>\n",
       "      <td>133.9500</td>\n",
       "      <td>133.9500</td>\n",
       "      <td>0</td>\n",
       "      <td>0</td>\n",
       "      <td>19</td>\n",
       "      <td>2011</td>\n",
       "      <td>1</td>\n",
       "      <td>...</td>\n",
       "      <td>False</td>\n",
       "      <td>False</td>\n",
       "      <td>False</td>\n",
       "      <td>False</td>\n",
       "      <td>False</td>\n",
       "      <td>0.00000</td>\n",
       "      <td>-0.070261</td>\n",
       "      <td>125.156355</td>\n",
       "      <td>128.285210</td>\n",
       "      <td>-0.044158</td>\n",
       "    </tr>\n",
       "    <tr>\n",
       "      <th>3</th>\n",
       "      <td>4</td>\n",
       "      <td>8091</td>\n",
       "      <td>216233</td>\n",
       "      <td>133.9500</td>\n",
       "      <td>133.9500</td>\n",
       "      <td>0</td>\n",
       "      <td>0</td>\n",
       "      <td>44</td>\n",
       "      <td>2011</td>\n",
       "      <td>1</td>\n",
       "      <td>...</td>\n",
       "      <td>False</td>\n",
       "      <td>False</td>\n",
       "      <td>False</td>\n",
       "      <td>False</td>\n",
       "      <td>False</td>\n",
       "      <td>0.00000</td>\n",
       "      <td>-0.072096</td>\n",
       "      <td>124.942208</td>\n",
       "      <td>128.101871</td>\n",
       "      <td>-0.045652</td>\n",
       "    </tr>\n",
       "    <tr>\n",
       "      <th>4</th>\n",
       "      <td>5</td>\n",
       "      <td>8091</td>\n",
       "      <td>217390</td>\n",
       "      <td>141.0750</td>\n",
       "      <td>141.0750</td>\n",
       "      <td>0</td>\n",
       "      <td>0</td>\n",
       "      <td>52</td>\n",
       "      <td>2011</td>\n",
       "      <td>1</td>\n",
       "      <td>...</td>\n",
       "      <td>False</td>\n",
       "      <td>False</td>\n",
       "      <td>False</td>\n",
       "      <td>False</td>\n",
       "      <td>False</td>\n",
       "      <td>0.00000</td>\n",
       "      <td>0.064907</td>\n",
       "      <td>150.867334</td>\n",
       "      <td>158.990538</td>\n",
       "      <td>0.112683</td>\n",
       "    </tr>\n",
       "  </tbody>\n",
       "</table>\n",
       "<p>5 rows × 26 columns</p>\n",
       "</div>"
      ],
      "text/plain": [
       "   record_ID  store_id  sku_id  total_price  base_price  is_featured_sku  \\\n",
       "0          1      8091  216418      99.0375    111.8625                0   \n",
       "1          2      8091  216419      99.0375     99.0375                0   \n",
       "2          3      8091  216425     133.9500    133.9500                0   \n",
       "3          4      8091  216233     133.9500    133.9500                0   \n",
       "4          5      8091  217390     141.0750    141.0750                0   \n",
       "\n",
       "   is_display_sku  units_sold  Year  Month  ...  Is_month_end  \\\n",
       "0               0          20  2011      1  ...         False   \n",
       "1               0          28  2011      1  ...         False   \n",
       "2               0          19  2011      1  ...         False   \n",
       "3               0          44  2011      1  ...         False   \n",
       "4               0          52  2011      1  ...         False   \n",
       "\n",
       "   Is_quarter_start  Is_quarter_end  Is_year_start  Is_year_end  \\\n",
       "0             False           False          False        False   \n",
       "1             False           False          False        False   \n",
       "2             False           False          False        False   \n",
       "3             False           False          False        False   \n",
       "4             False           False          False        False   \n",
       "\n",
       "   price_diff_base  price_diff_total  total_price_mean_skuid  \\\n",
       "0          0.11465         -0.076697               91.982702   \n",
       "1          0.00000         -0.072424               92.349162   \n",
       "2          0.00000         -0.070261              125.156355   \n",
       "3          0.00000         -0.072096              124.942208   \n",
       "4          0.00000          0.064907              150.867334   \n",
       "\n",
       "   base_price_mean_skuid  mean_price_diff_base  \n",
       "0              94.688268             -0.181377  \n",
       "1              94.908763             -0.043502  \n",
       "2             128.285210             -0.044158  \n",
       "3             128.101871             -0.045652  \n",
       "4             158.990538              0.112683  \n",
       "\n",
       "[5 rows x 26 columns]"
      ]
     },
     "execution_count": 26,
     "metadata": {},
     "output_type": "execute_result"
    }
   ],
   "source": [
    "# Data after feature engineering\n",
    "data.head()"
   ]
  },
  {
   "cell_type": "code",
   "execution_count": 27,
   "metadata": {},
   "outputs": [],
   "source": [
    "X = data.drop(['units_sold','record_ID'], axis=1)\n",
    "y = data.units_sold.values"
   ]
  },
  {
   "cell_type": "code",
   "execution_count": null,
   "metadata": {},
   "outputs": [],
   "source": []
  },
  {
   "cell_type": "code",
   "execution_count": 28,
   "metadata": {},
   "outputs": [],
   "source": [
    "# Load test data\n",
    "test = pd.read_csv('test_nfaJ3J5.csv')"
   ]
  },
  {
   "cell_type": "code",
   "execution_count": 29,
   "metadata": {},
   "outputs": [],
   "source": [
    "index = np.array(test['record_ID'])\n",
    "index = index.reshape((test.shape[0],1))"
   ]
  },
  {
   "cell_type": "code",
   "execution_count": 30,
   "metadata": {},
   "outputs": [],
   "source": [
    "# Same data prep\n",
    "test.drop(['record_ID'], inplace=True, axis=1)\n",
    "test['week'] =  pd.to_datetime(test['week'], format='%d/%m/%y')\n",
    "test = data_prep(test)"
   ]
  },
  {
   "cell_type": "code",
   "execution_count": 31,
   "metadata": {},
   "outputs": [
    {
     "name": "stdout",
     "output_type": "stream",
     "text": [
      "TRAIN: [     1      2      3 ... 150146 150147 150148] TEST: [     0      5      6 ... 150130 150131 150149]\n",
      "[10:51:51] WARNING: src/objective/regression_obj.cu:152: reg:linear is now deprecated in favor of reg:squarederror.\n",
      "TRAIN: [     0      2      3 ... 150147 150148 150149] TEST: [     1      7     14 ... 150118 150137 150143]\n",
      "[10:52:28] WARNING: src/objective/regression_obj.cu:152: reg:linear is now deprecated in favor of reg:squarederror.\n",
      "TRAIN: [     0      1      2 ... 150145 150146 150149] TEST: [     3     12     15 ... 150128 150147 150148]\n",
      "[10:53:08] WARNING: src/objective/regression_obj.cu:152: reg:linear is now deprecated in favor of reg:squarederror.\n",
      "TRAIN: [     0      1      3 ... 150147 150148 150149] TEST: [     2     16     20 ... 150138 150140 150142]\n",
      "[10:53:46] WARNING: src/objective/regression_obj.cu:152: reg:linear is now deprecated in favor of reg:squarederror.\n",
      "TRAIN: [     0      1      2 ... 150147 150148 150149] TEST: [    13     17     19 ... 150141 150144 150145]\n",
      "[10:54:23] WARNING: src/objective/regression_obj.cu:152: reg:linear is now deprecated in favor of reg:squarederror.\n",
      "TRAIN: [     0      1      2 ... 150147 150148 150149] TEST: [     4      9     10 ... 150126 150134 150135]\n",
      "[10:55:01] WARNING: src/objective/regression_obj.cu:152: reg:linear is now deprecated in favor of reg:squarederror.\n",
      "TRAIN: [     0      1      2 ... 150147 150148 150149] TEST: [    32     50     51 ... 150133 150139 150146]\n",
      "[10:55:42] WARNING: src/objective/regression_obj.cu:152: reg:linear is now deprecated in favor of reg:squarederror.\n"
     ]
    }
   ],
   "source": [
    "# Stacking\n",
    "\n",
    "# Level 1 - XGB, Catboost, Lightgbm\n",
    "# Level 2 - XGB\n",
    "\n",
    "x_meta = X.copy()\n",
    "y_pred_test_meta1 = 0\n",
    "y_pred_test_meta2 = 0\n",
    "y_pred_test_meta3 = 0\n",
    "skf = StratifiedKFold(n_splits=7, shuffle = True, random_state = 1001)\n",
    "skf.split(X,y)\n",
    "for train_index, test_index in skf.split(X, y):\n",
    "    print(\"TRAIN:\", train_index, \"TEST:\", test_index)\n",
    "    X_train, X_test = X.loc[train_index,:], X.loc[test_index,:]\n",
    "    Y_train, Y_test = y[train_index], y[test_index]\n",
    "    \n",
    "    xgb1 = xgb.XGBRegressor(n_estimators=100, max_depth=10, min_child_weight=4, learning_rate=0.2, n_jobs=-1, silent=False)\n",
    "    cb = catboost.CatBoostRegressor(iterations=1000, early_stopping_rounds=20, learning_rate=0.1, silent=True)\n",
    "    lgb1 = lgb.LGBMRegressor(n_estimators=1000, max_depth=8)\n",
    "    \n",
    "    xgb1.fit(X_train,Y_train)\n",
    "    cb.fit(X_train,Y_train)\n",
    "    lgb1.fit(X_train,Y_train)\n",
    "    \n",
    "    x_meta.loc[test_index,'meta_feature1'] = xgb1.predict(X_test)\n",
    "    x_meta.loc[test_index,'meta_feature2'] = cb.predict(X_test)\n",
    "    x_meta.loc[test_index,'meta_feature3'] = lgb1.predict(X_test)\n",
    "    \n",
    "    y_pred_test_meta1 = y_pred_test_meta1 + xgb1.predict(test)\n",
    "    y_pred_test_meta2 = y_pred_test_meta2 + cb.predict(test)\n",
    "    y_pred_test_meta3 = y_pred_test_meta3 + lgb1.predict(test)\n",
    "    \n",
    "y_pred_test_meta1 = y_pred_test_meta1/7\n",
    "y_pred_test_meta2 = y_pred_test_meta2/7\n",
    "y_pred_test_meta3 = y_pred_test_meta3/7"
   ]
  },
  {
   "cell_type": "code",
   "execution_count": 32,
   "metadata": {},
   "outputs": [],
   "source": [
    "# Add meta features in test data\n",
    "test['meta_feature1'] = y_pred_test_meta1\n",
    "test['meta_feature2'] = y_pred_test_meta2\n",
    "test['meta_feature3'] = y_pred_test_meta3"
   ]
  },
  {
   "cell_type": "code",
   "execution_count": 33,
   "metadata": {},
   "outputs": [
    {
     "name": "stdout",
     "output_type": "stream",
     "text": [
      "[11:12:06] WARNING: src/objective/regression_obj.cu:152: reg:linear is now deprecated in favor of reg:squarederror.\n"
     ]
    },
    {
     "data": {
      "text/plain": [
       "XGBRegressor(base_score=0.5, booster='gbtree', colsample_bylevel=1,\n",
       "             colsample_bynode=1, colsample_bytree=1, gamma=0,\n",
       "             importance_type='gain', learning_rate=0.2, max_delta_step=0,\n",
       "             max_depth=10, min_child_weight=4, missing=None, n_estimators=200,\n",
       "             n_jobs=-1, nthread=None, objective='reg:linear', random_state=0,\n",
       "             reg_alpha=0, reg_lambda=1, scale_pos_weight=1, seed=None,\n",
       "             silent=False, subsample=1, verbosity=1)"
      ]
     },
     "execution_count": 33,
     "metadata": {},
     "output_type": "execute_result"
    }
   ],
   "source": [
    "#stacked model\n",
    "model2 = xgb.XGBRegressor(n_estimators=200, max_depth=10, min_child_weight=4, learning_rate=0.2, n_jobs=-1, silent=False)\n",
    "\n",
    "model2.fit(x_meta, y) "
   ]
  },
  {
   "cell_type": "code",
   "execution_count": 34,
   "metadata": {},
   "outputs": [
    {
     "data": {
      "image/png": "[encoded data removed]",
      "text/plain": [
       "<Figure size 432x288 with 1 Axes>"
      ]
     },
     "metadata": {
      "needs_background": "light"
     },
     "output_type": "display_data"
    }
   ],
   "source": [
    "fig = xgb.plot_importance(model2)"
   ]
  },
  {
   "cell_type": "code",
   "execution_count": 35,
   "metadata": {},
   "outputs": [],
   "source": [
    "prediction = model2.predict(test)\n",
    "prediction[prediction < 0] = 1\n",
    "prediction = prediction.reshape((test.shape[0],1))\n",
    "final = np.concatenate((index, prediction), axis=1)\n",
    "final = pd.DataFrame(final, columns=['record_ID','units_sold'])"
   ]
  },
  {
   "cell_type": "code",
   "execution_count": 36,
   "metadata": {},
   "outputs": [],
   "source": [
    "final.to_csv('Submission.csv', index = False)"
   ]
  }
 ],
 "metadata": {
  "kernelspec": {
   "display_name": "Python 3",
   "language": "python",
   "name": "python3"
  },
  "language_info": {
   "codemirror_mode": {
    "name": "ipython",
    "version": 3
   },
   "file_extension": ".py",
   "mimetype": "text/x-python",
   "name": "python",
   "nbconvert_exporter": "python",
   "pygments_lexer": "ipython3",
   "version": "3.7.3"
  }
 },
 "nbformat": 4,
 "nbformat_minor": 4
}
